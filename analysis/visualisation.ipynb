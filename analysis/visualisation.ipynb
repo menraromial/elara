{
 "cells": [
  {
   "cell_type": "markdown",
   "id": "247f650f",
   "metadata": {},
   "source": [
    "# Notebook pour la Visualisation des Résultats de Simulation\n",
    "\n",
    "Ce notebook a pour but de lire des données de simulation depuis un fichier CSV, de les traiter et de générer une visualisation interactive et professionnelle à l'aide de Plotly. Il intègre également la lecture de métadonnées depuis un fichier YAML pour enrichir le graphique."
   ]
  },
  {
   "cell_type": "markdown",
   "id": "6fe536ad",
   "metadata": {},
   "source": [
    "## 1. Importation des bibliothèques\n",
    "\n",
    "On commence par importer toutes les bibliothèques nécessaires au projet."
   ]
  },
  {
   "cell_type": "code",
   "execution_count": 8,
   "id": "1581633f",
   "metadata": {},
   "outputs": [],
   "source": [
    "import pandas as pd\n",
    "import plotly.graph_objects as go\n",
    "from plotly.subplots import make_subplots\n",
    "import plotly.colors as pcolors\n",
    "import sys\n",
    "import os\n",
    "import yaml"
   ]
  },
  {
   "cell_type": "markdown",
   "id": "1ae41b77",
   "metadata": {},
   "source": [
    "## 2. Fonctions Utilitaires\n",
    "\n",
    "Ces fonctions permettent de lire les métadonnées depuis un fichier YAML et de les ajouter de manière formatée à la légende du graphique."
   ]
  },
  {
   "cell_type": "code",
   "execution_count": 9,
   "id": "f01f9f7a",
   "metadata": {},
   "outputs": [],
   "source": [
    "def read_metadata_yaml(metadata_path: str) -> dict:\n",
    "    \"\"\"Reads the metadata YAML file into a dictionary.\"\"\"\n",
    "    if not os.path.exists(metadata_path):\n",
    "        print(f\"ℹ️  Info: Metadata file not found at '{metadata_path}'.\", file=sys.stderr)\n",
    "        return {}\n",
    "    print(f\"✅ Found metadata file at '{metadata_path}'.\")\n",
    "    try:\n",
    "        with open(metadata_path, 'r') as f:\n",
    "            return yaml.safe_load(f)\n",
    "    except Exception as e:\n",
    "        print(f\"⚠️  Warning: Could not read or parse metadata file '{metadata_path}'. Error: {e}\", file=sys.stderr)\n",
    "        return {}\n",
    "\n",
    "def add_metadata_to_legend(fig: go.Figure, metadata: dict):\n",
    "    \"\"\"Adds metadata to the plot's legend using invisible 'dummy' traces.\"\"\"\n",
    "    if not metadata:\n",
    "        return\n",
    "\n",
    "    lines = [\"\"]\n",
    "    ctrl_conf = metadata.get('controller', {})\n",
    "    if ctrl_conf:\n",
    "        lines.append(\"CONTROLLER PARAMETERS:\")\n",
    "        for key, value in ctrl_conf.items():\n",
    "            # Convert camelCase to Title Case\n",
    "            formatted_key = ''.join([' ' + char if char.isupper() else char for char in key]).strip().title()\n",
    "            lines.append(f\"  {formatted_key}: {value}\")\n",
    "    \n",
    "    dep_conf = metadata.get('deployments', {})\n",
    "    if dep_conf:\n",
    "        lines.append(\"\")\n",
    "        lines.append(\"DEPLOYMENTS SETUP:\")\n",
    "    \n",
    "    # Handle deployment groups\n",
    "    for group in dep_conf.get('groups', []):\n",
    "        lines.append(f\"  Group: {group.get('name', 'Unknown')}\")\n",
    "        for member in group.get('members', []):\n",
    "            weight = member.get('weight', 'N/A')\n",
    "            min_replicas = member.get('minReplicas', 'N/A')\n",
    "            max_replicas = member.get('maxReplicas', 'N/A')\n",
    "            lines.append(f\"    - {member.get('name', 'Unknown')} (W:{weight}, M:{min_replicas}, X:{max_replicas})\")\n",
    "\n",
    "    # Handle independent deployments\n",
    "    for indep in dep_conf.get('independent', []):\n",
    "        min_replicas = indep.get('minReplicas', 'N/A')\n",
    "        max_replicas = indep.get('maxReplicas', 'N/A')\n",
    "        lines.append(f\"  Independent: {indep.get('name', 'Unknown')} (M:{min_replicas}, X:{max_replicas})\")\n",
    "\n",
    "    # Add invisible traces for metadata display\n",
    "    for line in lines:\n",
    "        fig.add_trace(go.Scatter(\n",
    "            x=[None], y=[None], \n",
    "            mode='markers', \n",
    "            name=line,\n",
    "            marker=dict(size=0, color='rgba(0,0,0,0)'),\n",
    "            showlegend=True,\n",
    "            hoverinfo='skip'\n",
    "        ))"
   ]
  },
  {
   "cell_type": "markdown",
   "id": "02afc833",
   "metadata": {},
   "source": [
    "## 3. Fonction Principale de Visualisation\n",
    "\n",
    "C'est la fonction principale qui orchestre le chargement des données, la création du graphique et la sauvegarde des résultats."
   ]
  },
  {
   "cell_type": "code",
   "execution_count": 14,
   "id": "741d7598",
   "metadata": {},
   "outputs": [],
   "source": [
    "def plot_simulation_results(csv_path: str, title: str, output_dir: str = \"plots\") -> go.Figure:\n",
    "    \"\"\"\n",
    "    Reads simulation data and metadata, and generates an enhanced, professional plot\n",
    "    with dynamic deployment column detection and metadata integration.\n",
    "    \n",
    "    Args:\n",
    "        csv_path (str): Path to the CSV file containing simulation data\n",
    "        title (str): Title for the plot\n",
    "        output_dir (str): Directory to save the plot image\n",
    "    \"\"\"\n",
    "    try:\n",
    "        df = pd.read_csv(csv_path)\n",
    "        print(f\"✅ Successfully loaded data from {csv_path}\")\n",
    "        print(f\"📊 Data shape: {df.shape}\")\n",
    "    except FileNotFoundError:\n",
    "        print(f\"❌ Error: The file '{csv_path}' was not found.\", file=sys.stderr)\n",
    "        return\n",
    "    except Exception as e:\n",
    "        print(f\"❌ Error reading CSV: {e}\", file=sys.stderr)\n",
    "        return\n",
    "\n",
    "    # --- Read Metadata ---\n",
    "    base_name = os.path.splitext(os.path.basename(csv_path))[0]\n",
    "    metadata_path = os.path.join(os.path.dirname(csv_path), base_name + '_metadata.yaml')\n",
    "    metadata = read_metadata_yaml(metadata_path)\n",
    "    \n",
    "    # --- Dynamic Column Detection & Validation ---\n",
    "    known_non_deployment_columns = [\n",
    "        'Timestamp', 'TimeSeconds', 'PowerSignal', 'ReferencePower', 'ControllerMode', 'TotalReplicas'\n",
    "    ]\n",
    "    \n",
    "    deployment_replica_columns = sorted([\n",
    "        col for col in df.columns if col not in known_non_deployment_columns\n",
    "    ])\n",
    "    \n",
    "    print(f\"🔍 Detected Deployment Columns: {deployment_replica_columns}\")\n",
    "    \n",
    "    # Validate required columns\n",
    "    required_columns = ['TimeSeconds', 'PowerSignal', 'ReferencePower', 'TotalReplicas', 'ControllerMode']\n",
    "    missing_columns = [col for col in required_columns if col not in df.columns]\n",
    "    if missing_columns:\n",
    "        print(f\"❌ Missing required columns: {missing_columns}\", file=sys.stderr)\n",
    "        return\n",
    "\n",
    "    # Convert timestamps if present\n",
    "    if 'Timestamp' in df.columns:\n",
    "        df['Timestamp'] = pd.to_datetime(df['Timestamp'])\n",
    "\n",
    "    # Create output directory if it doesn't exist\n",
    "    os.makedirs(output_dir, exist_ok=True)\n",
    "\n",
    "    # --- Create the enhanced plot ---\n",
    "    fig = make_subplots(specs=[[{\"secondary_y\": True}]])\n",
    "\n",
    "    # Enhanced color schemes\n",
    "    color_cycle = pcolors.qualitative.Plotly\n",
    "    \n",
    "    power_colors = {\n",
    "        'signal': 'royalblue',\n",
    "        'reference': 'rgba(239, 85, 59, 0.7)',  # Semi-transparent red-orange\n",
    "    }\n",
    "\n",
    "    # --- Primary Y-Axis (Power) ---\n",
    "    fig.add_trace(\n",
    "        go.Scatter(\n",
    "            x=df['TimeSeconds'], \n",
    "            y=df['PowerSignal'], \n",
    "            name='Power Signal (W)',\n",
    "            mode='lines', \n",
    "            line=dict(color=power_colors['signal'], width=3),\n",
    "            hovertemplate=\"Time: %{x:.2f}s<br>Power Signal: %{y:.2f}W<extra></extra>\"\n",
    "        ),\n",
    "        secondary_y=False,\n",
    "    )\n",
    "    \n",
    "    fig.add_trace(\n",
    "        go.Scatter(\n",
    "            x=df['TimeSeconds'], \n",
    "            y=df['ReferencePower'], \n",
    "            name='Controller Reference Power (P_ref)',\n",
    "            mode='lines', \n",
    "            line=dict(color=power_colors['reference'], dash='dash', width=2),\n",
    "            hovertemplate=\"Time: %{x:.2f}s<br>Reference Power: %{y:.2f}W<extra></extra>\"\n",
    "        ),\n",
    "        secondary_y=False,\n",
    "    )\n",
    "\n",
    "    # --- Secondary Y-Axis (Replicas) ---\n",
    "    # Plot TotalReplicas first and make it prominent\n",
    "    fig.add_trace(\n",
    "        go.Scatter(\n",
    "            x=df['TimeSeconds'], \n",
    "            y=df['TotalReplicas'], \n",
    "            name='Total Replicas',\n",
    "            mode='lines', \n",
    "            line=dict(color='black', width=4),\n",
    "            hovertemplate=\"Time: %{x:.2f}s<br>Total Replicas: %{y}<extra></extra>\"\n",
    "        ),\n",
    "        secondary_y=True,\n",
    "    )\n",
    "\n",
    "    # Dynamically plot each individual deployment's replica count\n",
    "    for i, col_name in enumerate(deployment_replica_columns):\n",
    "        color = color_cycle[i % len(color_cycle)]\n",
    "        fig.add_trace(\n",
    "            go.Scatter(\n",
    "                x=df['TimeSeconds'], \n",
    "                y=df[col_name], \n",
    "                name=f'{col_name}',\n",
    "                mode='lines', \n",
    "                line=dict(dash='dot', color=color, width=2),\n",
    "                hovertemplate=f\"Time: %{{x:.2f}}s<br>{col_name}: %{{y}}<extra></extra>\"\n",
    "            ),\n",
    "            secondary_y=True,\n",
    "        )\n",
    "\n",
    "    # --- Add metadata to legend ---\n",
    "    add_metadata_to_legend(fig, metadata)\n",
    "\n",
    "    # --- Enhanced Controller Mode Annotations ---\n",
    "    mode_colors = {\n",
    "        \"Stable\": \"rgba(100, 100, 100, 0.1)\",\n",
    "        \"PendingIncrease\": \"rgba(255, 165, 0, 0.15)\",    # Orange\n",
    "        \"PendingDecrease\": \"rgba(0, 191, 255, 0.15)\",    # Deep Sky Blue\n",
    "    }\n",
    "    \n",
    "    mode_labels = {\n",
    "        \"Stable\": \"S\",\n",
    "        \"PendingIncrease\": \"I\",\n",
    "        \"PendingDecrease\": \"D\",\n",
    "    }\n",
    "\n",
    "    # Add mode annotations with improved logic\n",
    "    if not df.empty and 'ControllerMode' in df.columns:\n",
    "        last_mode = None\n",
    "        mode_start_time = None\n",
    "        \n",
    "        for i, row in df.iterrows():\n",
    "            current_mode = row['ControllerMode']\n",
    "            current_time = row['TimeSeconds']\n",
    "            \n",
    "            if current_mode != last_mode:\n",
    "                # End previous mode region\n",
    "                if last_mode is not None and mode_start_time is not None:\n",
    "                    fig.add_vrect(\n",
    "                        x0=mode_start_time, \n",
    "                        x1=current_time,\n",
    "                        fillcolor=mode_colors.get(last_mode, \"rgba(220, 220, 220, 0.1)\"),\n",
    "                        layer=\"below\", \n",
    "                        line_width=0,\n",
    "                        annotation_text=mode_labels.get(last_mode, last_mode),\n",
    "                        annotation_position=\"top left\",\n",
    "                        annotation=dict(\n",
    "                            font=dict(size=14, color=\"black\"),\n",
    "                            bgcolor=\"rgba(255, 255, 255, 0.8)\",\n",
    "                            borderpad=2\n",
    "                        )\n",
    "                    )\n",
    "                \n",
    "                # Start new mode region\n",
    "                last_mode = current_mode\n",
    "                mode_start_time = current_time\n",
    "\n",
    "        # Add the last region\n",
    "        if last_mode is not None and mode_start_time is not None:\n",
    "            final_time = df['TimeSeconds'].iloc[-1]\n",
    "            if final_time > mode_start_time:\n",
    "                fig.add_vrect(\n",
    "                    x0=mode_start_time, \n",
    "                    x1=final_time,\n",
    "                    fillcolor=mode_colors.get(last_mode, \"rgba(220, 220, 220, 0.1)\"),\n",
    "                    layer=\"below\", \n",
    "                    line_width=0,\n",
    "                    annotation_text=mode_labels.get(last_mode, last_mode),\n",
    "                    annotation_position=\"top left\",\n",
    "                    annotation=dict(\n",
    "                        font=dict(size=14, color=\"black\"),\n",
    "                        bgcolor=\"rgba(255, 255, 255, 0.8)\",\n",
    "                        borderpad=2\n",
    "                    )\n",
    "                )\n",
    "\n",
    "    # --- Enhanced Layout ---\n",
    "    fig.update_layout(\n",
    "        title=dict(\n",
    "            text=f\"<b>Elara Controller Scenario: {title}</b>\",\n",
    "            x=0.5,\n",
    "            font=dict(size=20)\n",
    "        ),\n",
    "        xaxis=dict(\n",
    "            title=\"<b>Time (seconds)</b>\",\n",
    "            showgrid=True,\n",
    "            gridwidth=1,\n",
    "            gridcolor=\"rgba(0,0,0,0.1)\"\n",
    "        ),\n",
    "        legend=dict(\n",
    "            title=\"<b>Metrics</b>\",\n",
    "            yanchor=\"top\",\n",
    "            y=1.02,\n",
    "            xanchor=\"left\",\n",
    "            x=1.01,\n",
    "            bgcolor='rgba(255,255,255,0.8)',\n",
    "            bordercolor=\"Black\",\n",
    "            borderwidth=1,\n",
    "            font=dict(family=\"Courier New, monospace\", size=11)\n",
    "        ),\n",
    "        template=\"plotly_white\",\n",
    "        hovermode=\"x unified\",\n",
    "        margin=dict(l=80, r=280, t=80, b=80)  # Adjust margins to fit legend and titles\n",
    "    )\n",
    "\n",
    "    # Update y-axes with better formatting and rangemode\n",
    "    fig.update_yaxes(\n",
    "        title_text=\"<b>Power (Watts)</b>\", \n",
    "        secondary_y=False,\n",
    "        rangemode='tozero',\n",
    "        showgrid=True,\n",
    "        gridwidth=1,\n",
    "        gridcolor=\"rgba(0,0,0,0.1)\"\n",
    "    )\n",
    "    fig.update_yaxes(\n",
    "        title_text=\"<b>Number of Replicas</b>\", \n",
    "        secondary_y=True,\n",
    "        rangemode='tozero',\n",
    "        showgrid=False  # Avoid grid overlap\n",
    "    )\n",
    "\n",
    "    # --- Save Outputs ---\n",
    "    safe_title = \"\".join(c for c in title if c.isalnum() or c in (' ', '-', '_')).rstrip().replace(' ', '_').lower()\n",
    "    png_path = os.path.join(output_dir, f\"{safe_title}.png\")\n",
    "    html_path = os.path.join(output_dir, f\"{safe_title}.html\")\n",
    "    \n",
    "    try:\n",
    "        fig.write_image(png_path, width=1920, height=1080, scale=2)\n",
    "        print(f\"✅ PNG plot saved to: {png_path}\")\n",
    "    except Exception as e:\n",
    "        print(f\"⚠️  Warning: Could not save PNG. Is 'kaleido' installed? ('pip install kaleido'). Error: {e}\", file=sys.stderr)\n",
    "    \n",
    "    try:\n",
    "        fig.write_html(html_path)\n",
    "        print(f\"✅ HTML plot saved to: {html_path}\")\n",
    "    except Exception as e:\n",
    "        print(f\"⚠️  Warning: Could not save HTML. Error: {e}\", file=sys.stderr)\n",
    "\n",
    "    # --- Display Summary Statistics ---\n",
    "    print(f\"\\n📊 --- Simulation Summary ---\")\n",
    "    print(f\"  Time Range:      {df['TimeSeconds'].min():.2f}s to {df['TimeSeconds'].max():.2f}s\")\n",
    "    print(f\"  Power Range:     {df['PowerSignal'].min():.2f}W to {df['PowerSignal'].max():.2f}W\")\n",
    "    print(f\"  Replica Range:   {df['TotalReplicas'].min()} to {df['TotalReplicas'].max()}\")\n",
    "    print(f\"  Controller Modes: {df['ControllerMode'].unique().tolist()}\")\n",
    "    print(f\"  Deployment Columns: {len(deployment_replica_columns)}\")\n",
    "    if metadata:\n",
    "        print(f\"  Metadata Found:  ✅ Yes\")\n",
    "    else:\n",
    "        print(f\"  Metadata Found:  ❌ No\")\n",
    "\n",
    "    return fig"
   ]
  },
  {
   "cell_type": "markdown",
   "id": "6a636e49",
   "metadata": {},
   "source": [
    "## 4. Exécution\n",
    "\n",
    "C'est ici que nous configurons les chemins des fichiers et que nous lançons la fonction de visualisation. \n",
    "\n",
    "**⚠️ Modifiez les variables `csv_file_path` et `output_dir` selon vos besoins.**"
   ]
  },
  {
   "cell_type": "code",
   "execution_count": 15,
   "id": "34f86c51",
   "metadata": {},
   "outputs": [
    {
     "name": "stdout",
     "output_type": "stream",
     "text": [
      "✅ Successfully loaded data from /home/romial/these/code/new/elara/test_output/Solar_Power_results.csv\n",
      "📊 Data shape: (35, 12)\n",
      "✅ Found metadata file at '/home/romial/these/code/new/elara/test_output/Solar_Power_results_metadata.yaml'.\n",
      "🔍 Detected Deployment Columns: ['auth-service', 'batch-worker', 'caching-layer', 'monitoring-agent', 'payment-service', 'stream-processor']\n",
      "✅ PNG plot saved to: analysis/solar_power.png\n",
      "✅ HTML plot saved to: analysis/solar_power.html\n",
      "\n",
      "📊 --- Simulation Summary ---\n",
      "  Time Range:      2.02s to 70.02s\n",
      "  Power Range:     5.00W to 575.00W\n",
      "  Replica Range:   11 to 19\n",
      "  Controller Modes: ['PendingIncrease', 'Stable', 'PendingDecrease']\n",
      "  Deployment Columns: 6\n",
      "  Metadata Found:  ✅ Yes\n"
     ]
    },
    {
     "data": {
      "application/vnd.plotly.v1+json": {
       "config": {
        "plotlyServerURL": "https://plot.ly"
       },
       "data": [
        {
         "hovertemplate": "Time: %{x:.2f}s<br>Power Signal: %{y:.2f}W<extra></extra>",
         "line": {
          "color": "royalblue",
          "width": 3
         },
         "mode": "lines",
         "name": "Power Signal (W)",
         "type": "scatter",
         "x": {
          "bdata": "KVyPwvUoAEAUrkfhehQQQBSuR+F6FBhACtejcD0KIEAK16NwPQokQArXo3A9CihACtejcD0KLECF61G4HgUwQIXrUbgeBTJAhetRuB4FNECF61G4HgU2QIXrUbgeBThAhetRuB4FOkCF61G4HgU8QIXrUbgeBT5Aw/UoXI8CQEDD9ShcjwJBQMP1KFyPAkJAw/UoXI8CQ0DD9ShcjwJEQOF6FK5HAUVAw/UoXI8CRkDD9ShcjwJHQMP1KFyPAkhAw/UoXI8CSUDD9ShcjwJKQMP1KFyPAktAw/UoXI8CTEDhehSuRwFNQOF6FK5HAU5Aw/UoXI8CT0DhehSuRwFQQOF6FK5HgVBA4XoUrkcBUUDhehSuR4FRQA==",
          "dtype": "f8"
         },
         "xaxis": "x",
         "y": {
          "bdata": "AAAAAAAAOUAAAAAAAAA5QAAAAAAAgEtAAAAAAACAVkAAAAAAAEBgQAAAAAAAQGVAAAAAAADgakAAAAAAAEBwQAAAAAAAwHJAAAAAAABAdUAAAAAAAMB3QAAAAAAAQHpAAAAAAABwfEAAAAAAAFB+QAAAAAAAGIBAAAAAAAC4gEAAAAAAAFiBQAAAAAAAqIFAAAAAAAD4gUAAAAAAANiBQAAAAAAAqIFAAAAAAAAIgUAAAAAAABiAQAAAAAAAAH5AAAAAAACAe0AAAAAAAAB5QAAAAAAAgHZAAAAAAACwc0AAAAAAAJBwQAAAAAAAQGpAAAAAAAAAZEAAAAAAAMBcQAAAAAAAwFJAAAAAAACAQUAAAAAAAAAUQA==",
          "dtype": "f8"
         },
         "yaxis": "y"
        },
        {
         "hovertemplate": "Time: %{x:.2f}s<br>Reference Power: %{y:.2f}W<extra></extra>",
         "line": {
          "color": "rgba(239, 85, 59, 0.7)",
          "dash": "dash",
          "width": 2
         },
         "mode": "lines",
         "name": "Controller Reference Power (P_ref)",
         "type": "scatter",
         "x": {
          "bdata": "KVyPwvUoAEAUrkfhehQQQBSuR+F6FBhACtejcD0KIEAK16NwPQokQArXo3A9CihACtejcD0KLECF61G4HgUwQIXrUbgeBTJAhetRuB4FNECF61G4HgU2QIXrUbgeBThAhetRuB4FOkCF61G4HgU8QIXrUbgeBT5Aw/UoXI8CQEDD9ShcjwJBQMP1KFyPAkJAw/UoXI8CQ0DD9ShcjwJEQOF6FK5HAUVAw/UoXI8CRkDD9ShcjwJHQMP1KFyPAkhAw/UoXI8CSUDD9ShcjwJKQMP1KFyPAktAw/UoXI8CTEDhehSuRwFNQOF6FK5HAU5Aw/UoXI8CT0DhehSuRwFQQOF6FK5HgVBA4XoUrkcBUUDhehSuR4FRQA==",
          "dtype": "f8"
         },
         "xaxis": "x",
         "y": {
          "bdata": "AAAAAAAAAAAAAAAAAAAAAAAAAAAAADlAAAAAAAAAOUAAAAAAAIBWQAAAAAAAgFZAAAAAAABAZUAAAAAAAEBlQAAAAAAAQHBAAAAAAABAcEAAAAAAAEB1QAAAAAAAQHVAAAAAAABAekAAAAAAAEB6QAAAAAAAUH5AAAAAAABQfkAAAAAAALiAQAAAAAAAuIBAAAAAAACogUAAAAAAAKiBQAAAAAAA2IFAAAAAAADYgUAAAAAAAAiBQAAAAAAACIFAAAAAAAAAfkAAAAAAAAB+QAAAAAAAAHlAAAAAAAAAeUAAAAAAALBzQAAAAAAAsHNAAAAAAABAakAAAAAAAEBqQAAAAAAAwFxAAAAAAADAXEAAAAAAAIBBQA==",
          "dtype": "f8"
         },
         "yaxis": "y"
        },
        {
         "hovertemplate": "Time: %{x:.2f}s<br>Total Replicas: %{y}<extra></extra>",
         "line": {
          "color": "black",
          "width": 4
         },
         "mode": "lines",
         "name": "Total Replicas",
         "type": "scatter",
         "x": {
          "bdata": "KVyPwvUoAEAUrkfhehQQQBSuR+F6FBhACtejcD0KIEAK16NwPQokQArXo3A9CihACtejcD0KLECF61G4HgUwQIXrUbgeBTJAhetRuB4FNECF61G4HgU2QIXrUbgeBThAhetRuB4FOkCF61G4HgU8QIXrUbgeBT5Aw/UoXI8CQEDD9ShcjwJBQMP1KFyPAkJAw/UoXI8CQ0DD9ShcjwJEQOF6FK5HAUVAw/UoXI8CRkDD9ShcjwJHQMP1KFyPAkhAw/UoXI8CSUDD9ShcjwJKQMP1KFyPAktAw/UoXI8CTEDhehSuRwFNQOF6FK5HAU5Aw/UoXI8CT0DhehSuRwFQQOF6FK5HgVBA4XoUrkcBUUDhehSuR4FRQA==",
          "dtype": "f8"
         },
         "xaxis": "x",
         "y": {
          "bdata": "CwsLCwsLCwsLCwsLDg4QEBISExMTExISEBANDQsLCwsLCws=",
          "dtype": "i1"
         },
         "yaxis": "y2"
        },
        {
         "hovertemplate": "Time: %{x:.2f}s<br>auth-service: %{y}<extra></extra>",
         "line": {
          "color": "#636EFA",
          "dash": "dot",
          "width": 2
         },
         "mode": "lines",
         "name": "auth-service",
         "type": "scatter",
         "x": {
          "bdata": "KVyPwvUoAEAUrkfhehQQQBSuR+F6FBhACtejcD0KIEAK16NwPQokQArXo3A9CihACtejcD0KLECF61G4HgUwQIXrUbgeBTJAhetRuB4FNECF61G4HgU2QIXrUbgeBThAhetRuB4FOkCF61G4HgU8QIXrUbgeBT5Aw/UoXI8CQEDD9ShcjwJBQMP1KFyPAkJAw/UoXI8CQ0DD9ShcjwJEQOF6FK5HAUVAw/UoXI8CRkDD9ShcjwJHQMP1KFyPAkhAw/UoXI8CSUDD9ShcjwJKQMP1KFyPAktAw/UoXI8CTEDhehSuRwFNQOF6FK5HAU5Aw/UoXI8CT0DhehSuRwFQQOF6FK5HgVBA4XoUrkcBUUDhehSuR4FRQA==",
          "dtype": "f8"
         },
         "xaxis": "x",
         "y": {
          "bdata": "AgICAgICAgICAgICAwMEBAUFBQUFBQQEAwMCAgICAgICAgI=",
          "dtype": "i1"
         },
         "yaxis": "y2"
        },
        {
         "hovertemplate": "Time: %{x:.2f}s<br>batch-worker: %{y}<extra></extra>",
         "line": {
          "color": "#EF553B",
          "dash": "dot",
          "width": 2
         },
         "mode": "lines",
         "name": "batch-worker",
         "type": "scatter",
         "x": {
          "bdata": "KVyPwvUoAEAUrkfhehQQQBSuR+F6FBhACtejcD0KIEAK16NwPQokQArXo3A9CihACtejcD0KLECF61G4HgUwQIXrUbgeBTJAhetRuB4FNECF61G4HgU2QIXrUbgeBThAhetRuB4FOkCF61G4HgU8QIXrUbgeBT5Aw/UoXI8CQEDD9ShcjwJBQMP1KFyPAkJAw/UoXI8CQ0DD9ShcjwJEQOF6FK5HAUVAw/UoXI8CRkDD9ShcjwJHQMP1KFyPAkhAw/UoXI8CSUDD9ShcjwJKQMP1KFyPAktAw/UoXI8CTEDhehSuRwFNQOF6FK5HAU5Aw/UoXI8CT0DhehSuRwFQQOF6FK5HgVBA4XoUrkcBUUDhehSuR4FRQA==",
          "dtype": "f8"
         },
         "xaxis": "x",
         "y": {
          "bdata": "AQEBAQEBAQEBAQEBAQEBAQEBAQEBAQEBAQEBAQEBAQEBAQE=",
          "dtype": "i1"
         },
         "yaxis": "y2"
        },
        {
         "hovertemplate": "Time: %{x:.2f}s<br>caching-layer: %{y}<extra></extra>",
         "line": {
          "color": "#00CC96",
          "dash": "dot",
          "width": 2
         },
         "mode": "lines",
         "name": "caching-layer",
         "type": "scatter",
         "x": {
          "bdata": "KVyPwvUoAEAUrkfhehQQQBSuR+F6FBhACtejcD0KIEAK16NwPQokQArXo3A9CihACtejcD0KLECF61G4HgUwQIXrUbgeBTJAhetRuB4FNECF61G4HgU2QIXrUbgeBThAhetRuB4FOkCF61G4HgU8QIXrUbgeBT5Aw/UoXI8CQEDD9ShcjwJBQMP1KFyPAkJAw/UoXI8CQ0DD9ShcjwJEQOF6FK5HAUVAw/UoXI8CRkDD9ShcjwJHQMP1KFyPAkhAw/UoXI8CSUDD9ShcjwJKQMP1KFyPAktAw/UoXI8CTEDhehSuRwFNQOF6FK5HAU5Aw/UoXI8CT0DhehSuRwFQQOF6FK5HgVBA4XoUrkcBUUDhehSuR4FRQA==",
          "dtype": "f8"
         },
         "xaxis": "x",
         "y": {
          "bdata": "AwMDAwMDAwMDAwMDAwMDAwMDAwMDAwMDAwMDAwMDAwMDAwM=",
          "dtype": "i1"
         },
         "yaxis": "y2"
        },
        {
         "hovertemplate": "Time: %{x:.2f}s<br>monitoring-agent: %{y}<extra></extra>",
         "line": {
          "color": "#AB63FA",
          "dash": "dot",
          "width": 2
         },
         "mode": "lines",
         "name": "monitoring-agent",
         "type": "scatter",
         "x": {
          "bdata": "KVyPwvUoAEAUrkfhehQQQBSuR+F6FBhACtejcD0KIEAK16NwPQokQArXo3A9CihACtejcD0KLECF61G4HgUwQIXrUbgeBTJAhetRuB4FNECF61G4HgU2QIXrUbgeBThAhetRuB4FOkCF61G4HgU8QIXrUbgeBT5Aw/UoXI8CQEDD9ShcjwJBQMP1KFyPAkJAw/UoXI8CQ0DD9ShcjwJEQOF6FK5HAUVAw/UoXI8CRkDD9ShcjwJHQMP1KFyPAkhAw/UoXI8CSUDD9ShcjwJKQMP1KFyPAktAw/UoXI8CTEDhehSuRwFNQOF6FK5HAU5Aw/UoXI8CT0DhehSuRwFQQOF6FK5HgVBA4XoUrkcBUUDhehSuR4FRQA==",
          "dtype": "f8"
         },
         "xaxis": "x",
         "y": {
          "bdata": "AgICAgICAgICAgICAgICAgICAgICAgICAgICAgICAgICAgI=",
          "dtype": "i1"
         },
         "yaxis": "y2"
        },
        {
         "hovertemplate": "Time: %{x:.2f}s<br>payment-service: %{y}<extra></extra>",
         "line": {
          "color": "#FFA15A",
          "dash": "dot",
          "width": 2
         },
         "mode": "lines",
         "name": "payment-service",
         "type": "scatter",
         "x": {
          "bdata": "KVyPwvUoAEAUrkfhehQQQBSuR+F6FBhACtejcD0KIEAK16NwPQokQArXo3A9CihACtejcD0KLECF61G4HgUwQIXrUbgeBTJAhetRuB4FNECF61G4HgU2QIXrUbgeBThAhetRuB4FOkCF61G4HgU8QIXrUbgeBT5Aw/UoXI8CQEDD9ShcjwJBQMP1KFyPAkJAw/UoXI8CQ0DD9ShcjwJEQOF6FK5HAUVAw/UoXI8CRkDD9ShcjwJHQMP1KFyPAkhAw/UoXI8CSUDD9ShcjwJKQMP1KFyPAktAw/UoXI8CTEDhehSuRwFNQOF6FK5HAU5Aw/UoXI8CT0DhehSuRwFQQOF6FK5HgVBA4XoUrkcBUUDhehSuR4FRQA==",
          "dtype": "f8"
         },
         "xaxis": "x",
         "y": {
          "bdata": "AgICAgICAgICAgICAgICAgICAgICAgICAgICAgICAgICAgI=",
          "dtype": "i1"
         },
         "yaxis": "y2"
        },
        {
         "hovertemplate": "Time: %{x:.2f}s<br>stream-processor: %{y}<extra></extra>",
         "line": {
          "color": "#19D3F3",
          "dash": "dot",
          "width": 2
         },
         "mode": "lines",
         "name": "stream-processor",
         "type": "scatter",
         "x": {
          "bdata": "KVyPwvUoAEAUrkfhehQQQBSuR+F6FBhACtejcD0KIEAK16NwPQokQArXo3A9CihACtejcD0KLECF61G4HgUwQIXrUbgeBTJAhetRuB4FNECF61G4HgU2QIXrUbgeBThAhetRuB4FOkCF61G4HgU8QIXrUbgeBT5Aw/UoXI8CQEDD9ShcjwJBQMP1KFyPAkJAw/UoXI8CQ0DD9ShcjwJEQOF6FK5HAUVAw/UoXI8CRkDD9ShcjwJHQMP1KFyPAkhAw/UoXI8CSUDD9ShcjwJKQMP1KFyPAktAw/UoXI8CTEDhehSuRwFNQOF6FK5HAU5Aw/UoXI8CT0DhehSuRwFQQOF6FK5HgVBA4XoUrkcBUUDhehSuR4FRQA==",
          "dtype": "f8"
         },
         "xaxis": "x",
         "y": {
          "bdata": "AQEBAQEBAQEBAQEBAwMEBAUFBgYGBgYGBQUDAwEBAQEBAQE=",
          "dtype": "i1"
         },
         "yaxis": "y2"
        },
        {
         "hoverinfo": "skip",
         "marker": {
          "color": "rgba(0,0,0,0)",
          "size": 0
         },
         "mode": "markers",
         "name": "",
         "showlegend": true,
         "type": "scatter",
         "x": [
          null
         ],
         "y": [
          null
         ]
        },
        {
         "hoverinfo": "skip",
         "marker": {
          "color": "rgba(0,0,0,0)",
          "size": 0
         },
         "mode": "markers",
         "name": "CONTROLLER PARAMETERS:",
         "showlegend": true,
         "type": "scatter",
         "x": [
          null
         ],
         "y": [
          null
         ]
        },
        {
         "hoverinfo": "skip",
         "marker": {
          "color": "rgba(0,0,0,0)",
          "size": 0
         },
         "mode": "markers",
         "name": "  Deadband: 10m",
         "showlegend": true,
         "type": "scatter",
         "x": [
          null
         ],
         "y": [
          null
         ]
        },
        {
         "hoverinfo": "skip",
         "marker": {
          "color": "rgba(0,0,0,0)",
          "size": 0
         },
         "mode": "markers",
         "name": "  Increase Window: 4s",
         "showlegend": true,
         "type": "scatter",
         "x": [
          null
         ],
         "y": [
          null
         ]
        },
        {
         "hoverinfo": "skip",
         "marker": {
          "color": "rgba(0,0,0,0)",
          "size": 0
         },
         "mode": "markers",
         "name": "  Decrease Window: 4s",
         "showlegend": true,
         "type": "scatter",
         "x": [
          null
         ],
         "y": [
          null
         ]
        },
        {
         "hoverinfo": "skip",
         "marker": {
          "color": "rgba(0,0,0,0)",
          "size": 0
         },
         "mode": "markers",
         "name": "  Increase Tolerance: 200m",
         "showlegend": true,
         "type": "scatter",
         "x": [
          null
         ],
         "y": [
          null
         ]
        },
        {
         "hoverinfo": "skip",
         "marker": {
          "color": "rgba(0,0,0,0)",
          "size": 0
         },
         "mode": "markers",
         "name": "  Decrease Tolerance: 200m",
         "showlegend": true,
         "type": "scatter",
         "x": [
          null
         ],
         "y": [
          null
         ]
        },
        {
         "hoverinfo": "skip",
         "marker": {
          "color": "rgba(0,0,0,0)",
          "size": 0
         },
         "mode": "markers",
         "name": "",
         "showlegend": true,
         "type": "scatter",
         "x": [
          null
         ],
         "y": [
          null
         ]
        },
        {
         "hoverinfo": "skip",
         "marker": {
          "color": "rgba(0,0,0,0)",
          "size": 0
         },
         "mode": "markers",
         "name": "DEPLOYMENTS SETUP:",
         "showlegend": true,
         "type": "scatter",
         "x": [
          null
         ],
         "y": [
          null
         ]
        },
        {
         "hoverinfo": "skip",
         "marker": {
          "color": "rgba(0,0,0,0)",
          "size": 0
         },
         "mode": "markers",
         "name": "  Group: backend-services",
         "showlegend": true,
         "type": "scatter",
         "x": [
          null
         ],
         "y": [
          null
         ]
        },
        {
         "hoverinfo": "skip",
         "marker": {
          "color": "rgba(0,0,0,0)",
          "size": 0
         },
         "mode": "markers",
         "name": "    - auth-service (W:3, M:2, X:15)",
         "showlegend": true,
         "type": "scatter",
         "x": [
          null
         ],
         "y": [
          null
         ]
        },
        {
         "hoverinfo": "skip",
         "marker": {
          "color": "rgba(0,0,0,0)",
          "size": 0
         },
         "mode": "markers",
         "name": "    - payment-service (W:2, M:2, X:10)",
         "showlegend": true,
         "type": "scatter",
         "x": [
          null
         ],
         "y": [
          null
         ]
        },
        {
         "hoverinfo": "skip",
         "marker": {
          "color": "rgba(0,0,0,0)",
          "size": 0
         },
         "mode": "markers",
         "name": "  Group: data-processing",
         "showlegend": true,
         "type": "scatter",
         "x": [
          null
         ],
         "y": [
          null
         ]
        },
        {
         "hoverinfo": "skip",
         "marker": {
          "color": "rgba(0,0,0,0)",
          "size": 0
         },
         "mode": "markers",
         "name": "    - stream-processor (W:5, M:1, X:20)",
         "showlegend": true,
         "type": "scatter",
         "x": [
          null
         ],
         "y": [
          null
         ]
        },
        {
         "hoverinfo": "skip",
         "marker": {
          "color": "rgba(0,0,0,0)",
          "size": 0
         },
         "mode": "markers",
         "name": "    - batch-worker (W:1, M:1, X:20)",
         "showlegend": true,
         "type": "scatter",
         "x": [
          null
         ],
         "y": [
          null
         ]
        },
        {
         "hoverinfo": "skip",
         "marker": {
          "color": "rgba(0,0,0,0)",
          "size": 0
         },
         "mode": "markers",
         "name": "  Independent: caching-layer (M:3, X:12)",
         "showlegend": true,
         "type": "scatter",
         "x": [
          null
         ],
         "y": [
          null
         ]
        },
        {
         "hoverinfo": "skip",
         "marker": {
          "color": "rgba(0,0,0,0)",
          "size": 0
         },
         "mode": "markers",
         "name": "  Independent: monitoring-agent (M:2, X:5)",
         "showlegend": true,
         "type": "scatter",
         "x": [
          null
         ],
         "y": [
          null
         ]
        }
       ],
       "layout": {
        "annotations": [
         {
          "bgcolor": "rgba(255, 255, 255, 0.8)",
          "borderpad": 2,
          "font": {
           "color": "black",
           "size": 14
          },
          "showarrow": false,
          "text": "I",
          "x": 2.02,
          "xanchor": "left",
          "xref": "x",
          "y": 1,
          "yanchor": "top",
          "yref": "y domain"
         },
         {
          "bgcolor": "rgba(255, 255, 255, 0.8)",
          "borderpad": 2,
          "font": {
           "color": "black",
           "size": 14
          },
          "showarrow": false,
          "text": "S",
          "x": 38.02,
          "xanchor": "left",
          "xref": "x",
          "y": 1,
          "yanchor": "top",
          "yref": "y domain"
         },
         {
          "bgcolor": "rgba(255, 255, 255, 0.8)",
          "borderpad": 2,
          "font": {
           "color": "black",
           "size": 14
          },
          "showarrow": false,
          "text": "I",
          "x": 40.02,
          "xanchor": "left",
          "xref": "x",
          "y": 1,
          "yanchor": "top",
          "yref": "y domain"
         },
         {
          "bgcolor": "rgba(255, 255, 255, 0.8)",
          "borderpad": 2,
          "font": {
           "color": "black",
           "size": 14
          },
          "showarrow": false,
          "text": "S",
          "x": 42.01,
          "xanchor": "left",
          "xref": "x",
          "y": 1,
          "yanchor": "top",
          "yref": "y domain"
         },
         {
          "bgcolor": "rgba(255, 255, 255, 0.8)",
          "borderpad": 2,
          "font": {
           "color": "black",
           "size": 14
          },
          "showarrow": false,
          "text": "D",
          "x": 44.02,
          "xanchor": "left",
          "xref": "x",
          "y": 1,
          "yanchor": "top",
          "yref": "y domain"
         }
        ],
        "hovermode": "x unified",
        "legend": {
         "bgcolor": "rgba(255,255,255,0.8)",
         "bordercolor": "Black",
         "borderwidth": 1,
         "font": {
          "family": "Courier New, monospace",
          "size": 11
         },
         "title": {
          "text": "<b>Metrics</b>"
         },
         "x": 1.01,
         "xanchor": "left",
         "y": 1.02,
         "yanchor": "top"
        },
        "margin": {
         "b": 80,
         "l": 80,
         "r": 280,
         "t": 80
        },
        "shapes": [
         {
          "fillcolor": "rgba(255, 165, 0, 0.15)",
          "layer": "below",
          "line": {
           "width": 0
          },
          "type": "rect",
          "x0": 2.02,
          "x1": 38.02,
          "xref": "x",
          "y0": 0,
          "y1": 1,
          "yref": "y domain"
         },
         {
          "fillcolor": "rgba(100, 100, 100, 0.1)",
          "layer": "below",
          "line": {
           "width": 0
          },
          "type": "rect",
          "x0": 38.02,
          "x1": 40.02,
          "xref": "x",
          "y0": 0,
          "y1": 1,
          "yref": "y domain"
         },
         {
          "fillcolor": "rgba(255, 165, 0, 0.15)",
          "layer": "below",
          "line": {
           "width": 0
          },
          "type": "rect",
          "x0": 40.02,
          "x1": 42.01,
          "xref": "x",
          "y0": 0,
          "y1": 1,
          "yref": "y domain"
         },
         {
          "fillcolor": "rgba(100, 100, 100, 0.1)",
          "layer": "below",
          "line": {
           "width": 0
          },
          "type": "rect",
          "x0": 42.01,
          "x1": 44.02,
          "xref": "x",
          "y0": 0,
          "y1": 1,
          "yref": "y domain"
         },
         {
          "fillcolor": "rgba(0, 191, 255, 0.15)",
          "layer": "below",
          "line": {
           "width": 0
          },
          "type": "rect",
          "x0": 44.02,
          "x1": 70.02,
          "xref": "x",
          "y0": 0,
          "y1": 1,
          "yref": "y domain"
         }
        ],
        "template": {
         "data": {
          "bar": [
           {
            "error_x": {
             "color": "#2a3f5f"
            },
            "error_y": {
             "color": "#2a3f5f"
            },
            "marker": {
             "line": {
              "color": "white",
              "width": 0.5
             },
             "pattern": {
              "fillmode": "overlay",
              "size": 10,
              "solidity": 0.2
             }
            },
            "type": "bar"
           }
          ],
          "barpolar": [
           {
            "marker": {
             "line": {
              "color": "white",
              "width": 0.5
             },
             "pattern": {
              "fillmode": "overlay",
              "size": 10,
              "solidity": 0.2
             }
            },
            "type": "barpolar"
           }
          ],
          "carpet": [
           {
            "aaxis": {
             "endlinecolor": "#2a3f5f",
             "gridcolor": "#C8D4E3",
             "linecolor": "#C8D4E3",
             "minorgridcolor": "#C8D4E3",
             "startlinecolor": "#2a3f5f"
            },
            "baxis": {
             "endlinecolor": "#2a3f5f",
             "gridcolor": "#C8D4E3",
             "linecolor": "#C8D4E3",
             "minorgridcolor": "#C8D4E3",
             "startlinecolor": "#2a3f5f"
            },
            "type": "carpet"
           }
          ],
          "choropleth": [
           {
            "colorbar": {
             "outlinewidth": 0,
             "ticks": ""
            },
            "type": "choropleth"
           }
          ],
          "contour": [
           {
            "colorbar": {
             "outlinewidth": 0,
             "ticks": ""
            },
            "colorscale": [
             [
              0,
              "#0d0887"
             ],
             [
              0.1111111111111111,
              "#46039f"
             ],
             [
              0.2222222222222222,
              "#7201a8"
             ],
             [
              0.3333333333333333,
              "#9c179e"
             ],
             [
              0.4444444444444444,
              "#bd3786"
             ],
             [
              0.5555555555555556,
              "#d8576b"
             ],
             [
              0.6666666666666666,
              "#ed7953"
             ],
             [
              0.7777777777777778,
              "#fb9f3a"
             ],
             [
              0.8888888888888888,
              "#fdca26"
             ],
             [
              1,
              "#f0f921"
             ]
            ],
            "type": "contour"
           }
          ],
          "contourcarpet": [
           {
            "colorbar": {
             "outlinewidth": 0,
             "ticks": ""
            },
            "type": "contourcarpet"
           }
          ],
          "heatmap": [
           {
            "colorbar": {
             "outlinewidth": 0,
             "ticks": ""
            },
            "colorscale": [
             [
              0,
              "#0d0887"
             ],
             [
              0.1111111111111111,
              "#46039f"
             ],
             [
              0.2222222222222222,
              "#7201a8"
             ],
             [
              0.3333333333333333,
              "#9c179e"
             ],
             [
              0.4444444444444444,
              "#bd3786"
             ],
             [
              0.5555555555555556,
              "#d8576b"
             ],
             [
              0.6666666666666666,
              "#ed7953"
             ],
             [
              0.7777777777777778,
              "#fb9f3a"
             ],
             [
              0.8888888888888888,
              "#fdca26"
             ],
             [
              1,
              "#f0f921"
             ]
            ],
            "type": "heatmap"
           }
          ],
          "histogram": [
           {
            "marker": {
             "pattern": {
              "fillmode": "overlay",
              "size": 10,
              "solidity": 0.2
             }
            },
            "type": "histogram"
           }
          ],
          "histogram2d": [
           {
            "colorbar": {
             "outlinewidth": 0,
             "ticks": ""
            },
            "colorscale": [
             [
              0,
              "#0d0887"
             ],
             [
              0.1111111111111111,
              "#46039f"
             ],
             [
              0.2222222222222222,
              "#7201a8"
             ],
             [
              0.3333333333333333,
              "#9c179e"
             ],
             [
              0.4444444444444444,
              "#bd3786"
             ],
             [
              0.5555555555555556,
              "#d8576b"
             ],
             [
              0.6666666666666666,
              "#ed7953"
             ],
             [
              0.7777777777777778,
              "#fb9f3a"
             ],
             [
              0.8888888888888888,
              "#fdca26"
             ],
             [
              1,
              "#f0f921"
             ]
            ],
            "type": "histogram2d"
           }
          ],
          "histogram2dcontour": [
           {
            "colorbar": {
             "outlinewidth": 0,
             "ticks": ""
            },
            "colorscale": [
             [
              0,
              "#0d0887"
             ],
             [
              0.1111111111111111,
              "#46039f"
             ],
             [
              0.2222222222222222,
              "#7201a8"
             ],
             [
              0.3333333333333333,
              "#9c179e"
             ],
             [
              0.4444444444444444,
              "#bd3786"
             ],
             [
              0.5555555555555556,
              "#d8576b"
             ],
             [
              0.6666666666666666,
              "#ed7953"
             ],
             [
              0.7777777777777778,
              "#fb9f3a"
             ],
             [
              0.8888888888888888,
              "#fdca26"
             ],
             [
              1,
              "#f0f921"
             ]
            ],
            "type": "histogram2dcontour"
           }
          ],
          "mesh3d": [
           {
            "colorbar": {
             "outlinewidth": 0,
             "ticks": ""
            },
            "type": "mesh3d"
           }
          ],
          "parcoords": [
           {
            "line": {
             "colorbar": {
              "outlinewidth": 0,
              "ticks": ""
             }
            },
            "type": "parcoords"
           }
          ],
          "pie": [
           {
            "automargin": true,
            "type": "pie"
           }
          ],
          "scatter": [
           {
            "fillpattern": {
             "fillmode": "overlay",
             "size": 10,
             "solidity": 0.2
            },
            "type": "scatter"
           }
          ],
          "scatter3d": [
           {
            "line": {
             "colorbar": {
              "outlinewidth": 0,
              "ticks": ""
             }
            },
            "marker": {
             "colorbar": {
              "outlinewidth": 0,
              "ticks": ""
             }
            },
            "type": "scatter3d"
           }
          ],
          "scattercarpet": [
           {
            "marker": {
             "colorbar": {
              "outlinewidth": 0,
              "ticks": ""
             }
            },
            "type": "scattercarpet"
           }
          ],
          "scattergeo": [
           {
            "marker": {
             "colorbar": {
              "outlinewidth": 0,
              "ticks": ""
             }
            },
            "type": "scattergeo"
           }
          ],
          "scattergl": [
           {
            "marker": {
             "colorbar": {
              "outlinewidth": 0,
              "ticks": ""
             }
            },
            "type": "scattergl"
           }
          ],
          "scattermap": [
           {
            "marker": {
             "colorbar": {
              "outlinewidth": 0,
              "ticks": ""
             }
            },
            "type": "scattermap"
           }
          ],
          "scattermapbox": [
           {
            "marker": {
             "colorbar": {
              "outlinewidth": 0,
              "ticks": ""
             }
            },
            "type": "scattermapbox"
           }
          ],
          "scatterpolar": [
           {
            "marker": {
             "colorbar": {
              "outlinewidth": 0,
              "ticks": ""
             }
            },
            "type": "scatterpolar"
           }
          ],
          "scatterpolargl": [
           {
            "marker": {
             "colorbar": {
              "outlinewidth": 0,
              "ticks": ""
             }
            },
            "type": "scatterpolargl"
           }
          ],
          "scatterternary": [
           {
            "marker": {
             "colorbar": {
              "outlinewidth": 0,
              "ticks": ""
             }
            },
            "type": "scatterternary"
           }
          ],
          "surface": [
           {
            "colorbar": {
             "outlinewidth": 0,
             "ticks": ""
            },
            "colorscale": [
             [
              0,
              "#0d0887"
             ],
             [
              0.1111111111111111,
              "#46039f"
             ],
             [
              0.2222222222222222,
              "#7201a8"
             ],
             [
              0.3333333333333333,
              "#9c179e"
             ],
             [
              0.4444444444444444,
              "#bd3786"
             ],
             [
              0.5555555555555556,
              "#d8576b"
             ],
             [
              0.6666666666666666,
              "#ed7953"
             ],
             [
              0.7777777777777778,
              "#fb9f3a"
             ],
             [
              0.8888888888888888,
              "#fdca26"
             ],
             [
              1,
              "#f0f921"
             ]
            ],
            "type": "surface"
           }
          ],
          "table": [
           {
            "cells": {
             "fill": {
              "color": "#EBF0F8"
             },
             "line": {
              "color": "white"
             }
            },
            "header": {
             "fill": {
              "color": "#C8D4E3"
             },
             "line": {
              "color": "white"
             }
            },
            "type": "table"
           }
          ]
         },
         "layout": {
          "annotationdefaults": {
           "arrowcolor": "#2a3f5f",
           "arrowhead": 0,
           "arrowwidth": 1
          },
          "autotypenumbers": "strict",
          "coloraxis": {
           "colorbar": {
            "outlinewidth": 0,
            "ticks": ""
           }
          },
          "colorscale": {
           "diverging": [
            [
             0,
             "#8e0152"
            ],
            [
             0.1,
             "#c51b7d"
            ],
            [
             0.2,
             "#de77ae"
            ],
            [
             0.3,
             "#f1b6da"
            ],
            [
             0.4,
             "#fde0ef"
            ],
            [
             0.5,
             "#f7f7f7"
            ],
            [
             0.6,
             "#e6f5d0"
            ],
            [
             0.7,
             "#b8e186"
            ],
            [
             0.8,
             "#7fbc41"
            ],
            [
             0.9,
             "#4d9221"
            ],
            [
             1,
             "#276419"
            ]
           ],
           "sequential": [
            [
             0,
             "#0d0887"
            ],
            [
             0.1111111111111111,
             "#46039f"
            ],
            [
             0.2222222222222222,
             "#7201a8"
            ],
            [
             0.3333333333333333,
             "#9c179e"
            ],
            [
             0.4444444444444444,
             "#bd3786"
            ],
            [
             0.5555555555555556,
             "#d8576b"
            ],
            [
             0.6666666666666666,
             "#ed7953"
            ],
            [
             0.7777777777777778,
             "#fb9f3a"
            ],
            [
             0.8888888888888888,
             "#fdca26"
            ],
            [
             1,
             "#f0f921"
            ]
           ],
           "sequentialminus": [
            [
             0,
             "#0d0887"
            ],
            [
             0.1111111111111111,
             "#46039f"
            ],
            [
             0.2222222222222222,
             "#7201a8"
            ],
            [
             0.3333333333333333,
             "#9c179e"
            ],
            [
             0.4444444444444444,
             "#bd3786"
            ],
            [
             0.5555555555555556,
             "#d8576b"
            ],
            [
             0.6666666666666666,
             "#ed7953"
            ],
            [
             0.7777777777777778,
             "#fb9f3a"
            ],
            [
             0.8888888888888888,
             "#fdca26"
            ],
            [
             1,
             "#f0f921"
            ]
           ]
          },
          "colorway": [
           "#636efa",
           "#EF553B",
           "#00cc96",
           "#ab63fa",
           "#FFA15A",
           "#19d3f3",
           "#FF6692",
           "#B6E880",
           "#FF97FF",
           "#FECB52"
          ],
          "font": {
           "color": "#2a3f5f"
          },
          "geo": {
           "bgcolor": "white",
           "lakecolor": "white",
           "landcolor": "white",
           "showlakes": true,
           "showland": true,
           "subunitcolor": "#C8D4E3"
          },
          "hoverlabel": {
           "align": "left"
          },
          "hovermode": "closest",
          "mapbox": {
           "style": "light"
          },
          "paper_bgcolor": "white",
          "plot_bgcolor": "white",
          "polar": {
           "angularaxis": {
            "gridcolor": "#EBF0F8",
            "linecolor": "#EBF0F8",
            "ticks": ""
           },
           "bgcolor": "white",
           "radialaxis": {
            "gridcolor": "#EBF0F8",
            "linecolor": "#EBF0F8",
            "ticks": ""
           }
          },
          "scene": {
           "xaxis": {
            "backgroundcolor": "white",
            "gridcolor": "#DFE8F3",
            "gridwidth": 2,
            "linecolor": "#EBF0F8",
            "showbackground": true,
            "ticks": "",
            "zerolinecolor": "#EBF0F8"
           },
           "yaxis": {
            "backgroundcolor": "white",
            "gridcolor": "#DFE8F3",
            "gridwidth": 2,
            "linecolor": "#EBF0F8",
            "showbackground": true,
            "ticks": "",
            "zerolinecolor": "#EBF0F8"
           },
           "zaxis": {
            "backgroundcolor": "white",
            "gridcolor": "#DFE8F3",
            "gridwidth": 2,
            "linecolor": "#EBF0F8",
            "showbackground": true,
            "ticks": "",
            "zerolinecolor": "#EBF0F8"
           }
          },
          "shapedefaults": {
           "line": {
            "color": "#2a3f5f"
           }
          },
          "ternary": {
           "aaxis": {
            "gridcolor": "#DFE8F3",
            "linecolor": "#A2B1C6",
            "ticks": ""
           },
           "baxis": {
            "gridcolor": "#DFE8F3",
            "linecolor": "#A2B1C6",
            "ticks": ""
           },
           "bgcolor": "white",
           "caxis": {
            "gridcolor": "#DFE8F3",
            "linecolor": "#A2B1C6",
            "ticks": ""
           }
          },
          "title": {
           "x": 0.05
          },
          "xaxis": {
           "automargin": true,
           "gridcolor": "#EBF0F8",
           "linecolor": "#EBF0F8",
           "ticks": "",
           "title": {
            "standoff": 15
           },
           "zerolinecolor": "#EBF0F8",
           "zerolinewidth": 2
          },
          "yaxis": {
           "automargin": true,
           "gridcolor": "#EBF0F8",
           "linecolor": "#EBF0F8",
           "ticks": "",
           "title": {
            "standoff": 15
           },
           "zerolinecolor": "#EBF0F8",
           "zerolinewidth": 2
          }
         }
        },
        "title": {
         "font": {
          "size": 20
         },
         "text": "<b>Elara Controller Scenario: Solar Power</b>",
         "x": 0.5
        },
        "xaxis": {
         "anchor": "y",
         "domain": [
          0,
          0.94
         ],
         "gridcolor": "rgba(0,0,0,0.1)",
         "gridwidth": 1,
         "showgrid": true,
         "title": {
          "text": "<b>Time (seconds)</b>"
         }
        },
        "yaxis": {
         "anchor": "x",
         "domain": [
          0,
          1
         ],
         "gridcolor": "rgba(0,0,0,0.1)",
         "gridwidth": 1,
         "rangemode": "tozero",
         "showgrid": true,
         "title": {
          "text": "<b>Power (Watts)</b>"
         }
        },
        "yaxis2": {
         "anchor": "x",
         "overlaying": "y",
         "rangemode": "tozero",
         "showgrid": false,
         "side": "right",
         "title": {
          "text": "<b>Number of Replicas</b>"
         }
        }
       }
      }
     },
     "metadata": {},
     "output_type": "display_data"
    }
   ],
   "source": [
    "# --- Configuration ---\n",
    "# ⚠️ MODIFIEZ CETTE LIGNE pour pointer vers votre fichier CSV\n",
    "csv_file_path = \"/home/romial/these/code/new/elara/test_output/Solar_Power_results.csv\" # Exemple de chemin\n",
    "\n",
    "# ⚠️ MODIFIEZ CETTE LIGNE pour définir le dossier de sortie des images/html\n",
    "output_dir = \"analysis\"\n",
    "\n",
    "# --- Exécution ---\n",
    "if not os.path.exists(csv_file_path):\n",
    "    print(f\"❌ Erreur : Le fichier '{csv_file_path}' n'a pas été trouvé.\", file=sys.stderr)\n",
    "else:\n",
    "    # Le titre du graphique est dérivé automatiquement du nom du fichier\n",
    "    base_title = \"Solar Power\"\n",
    "    \n",
    "    # Appel de la fonction principale\n",
    "    fig = plot_simulation_results(csv_file_path, base_title, output_dir)\n",
    "    \n",
    "    # Affichage du graphique directement dans le notebook (si la fonction a bien retourné une figure)\n",
    "    if fig:\n",
    "        fig.show()"
   ]
  }
 ],
 "metadata": {
  "kernelspec": {
   "display_name": "Python 3",
   "language": "python",
   "name": "python3"
  },
  "language_info": {
   "codemirror_mode": {
    "name": "ipython",
    "version": 3
   },
   "file_extension": ".py",
   "mimetype": "text/x-python",
   "name": "python",
   "nbconvert_exporter": "python",
   "pygments_lexer": "ipython3",
   "version": "3.12.3"
  }
 },
 "nbformat": 4,
 "nbformat_minor": 5
}
